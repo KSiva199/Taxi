{
 "cells": [
  {
   "cell_type": "code",
   "execution_count": null,
   "metadata": {},
   "outputs": [
    {
     "name": "stdout",
     "output_type": "stream",
     "text": [
      "None None\n"
     ]
    }
   ],
   "source": [
    "\n",
    "#1\n",
    "\n",
    "import datetime, csv\n",
    "file=open(\"/Users/ksr/Downloads/trip_data_1.csv\",'r')\n",
    "reader=csv.reader(file)\n",
    "minval=None\n",
    "maxval=None\n",
    "n=0\n",
    "for row in reader:\n",
    "    if n>0:\n",
    "        dto=None\n",
    "        dts=row[5]\n",
    "        try:\n",
    "            dto=datetime.datetime.strptime(dts,\"%Y-%m-%d %H:%M:%S\")\n",
    "        except Exception as e:\n",
    "            print(e)\n",
    "            if dto is not None:\n",
    "                if maxval is None or dto>maxval:\n",
    "                    maxval=dto\n",
    "                elif minval is None or dto<minval:\n",
    "                    minval=dto\n",
    "    n+=1\n",
    "print(minval,maxval)"
   ]
  },
  {
   "cell_type": "code",
   "execution_count": 1,
   "metadata": {},
   "outputs": [
    {
     "name": "stdout",
     "output_type": "stream",
     "text": [
      "['medallion', 'hack_license', 'vendor_id', 'rate_code', 'store_and_fwd_flag', 'pickup_datetime', 'dropoff_datetime', 'passenger_count', 'trip_time_in_secs', 'trip_distance', 'pickup_longitude', 'pickup_latitude', 'dropoff_longitude', 'dropoff_latitude']\n"
     ]
    }
   ],
   "source": [
    "#2\n",
    "\n",
    "import csv\n",
    "file=open(\"/Users/ksr/Downloads/trip_data_1.csv\",'r')\n",
    "reader=csv.reader(file)\n",
    "\n",
    "\n",
    "for row in reader:\n",
    "    print(row)\n",
    "    break\n"
   ]
  },
  {
   "cell_type": "code",
   "execution_count": 2,
   "metadata": {},
   "outputs": [
    {
     "name": "stdout",
     "output_type": "stream",
     "text": [
      "['medallion', 'hack_license', 'vendor_id', 'rate_code', 'store_and_fwd_flag', 'pickup_datetime', 'dropoff_datetime', 'passenger_count', 'trip_time_in_secs', 'trip_distance', 'pickup_longitude', 'pickup_latitude', 'dropoff_longitude', 'dropoff_latitude']\n",
      "['89D227B655E5C82AECF13C3F540D4CF4', 'BA96DE419E711691B9445D6A6307C170', 'CMT', '1', 'N', '2013-01-01 15:11:48', '2013-01-01 15:18:10', '4', '382', '1.00', '-73.978165', '40.757977', '-73.989838', '40.751171']\n",
      "['0BD7C8F5BA12B88E0B67BED28BEA73D8', '9FD8F69F0804BDB5549F40E9DA1BE472', 'CMT', '1', 'N', '2013-01-06 00:18:35', '2013-01-06 00:22:54', '1', '259', '1.50', '-74.006683', '40.731781', '-73.994499', '40.75066']\n",
      "['0BD7C8F5BA12B88E0B67BED28BEA73D8', '9FD8F69F0804BDB5549F40E9DA1BE472', 'CMT', '1', 'N', '2013-01-05 18:49:41', '2013-01-05 18:54:23', '1', '282', '1.10', '-74.004707', '40.73777', '-74.009834', '40.726002']\n",
      "['DFD2202EE08F7A8DC9A57B02ACB81FE2', '51EE87E3205C985EF8431D850C786310', 'CMT', '1', 'N', '2013-01-07 23:54:15', '2013-01-07 23:58:20', '2', '244', '.70', '-73.974602', '40.759945', '-73.984734', '40.759388']\n",
      "['DFD2202EE08F7A8DC9A57B02ACB81FE2', '51EE87E3205C985EF8431D850C786310', 'CMT', '1', 'N', '2013-01-07 23:25:03', '2013-01-07 23:34:24', '1', '560', '2.10', '-73.97625', '40.748528', '-74.002586', '40.747868']\n"
     ]
    }
   ],
   "source": [
    "#3\n",
    "import csv\n",
    "file=open(\"/Users/ksr/Downloads/trip_data_1.csv\",'r')\n",
    "reader=csv.reader(file)\n",
    "\n",
    "n=0\n",
    "for row in reader:\n",
    "    print(row)\n",
    "    n+=1\n",
    "    if n>5:\n",
    "        break\n",
    "        \n",
    "       "
   ]
  },
  {
   "cell_type": "code",
   "execution_count": 2,
   "metadata": {},
   "outputs": [
    {
     "name": "stdout",
     "output_type": "stream",
     "text": [
      "medallion|hack_license|vendor_id|rate_code|store_and_fwd_flag|pickup_datetime|dropoff_datetime|passenger_count|trip_time_in_secs|trip_distance|pickup_longitude|pickup_latitude|dropoff_longitude|dropoff_latitude\n",
      "---------------------------|---------------------------|---------------------------|---------------------------|---------------------------|---------------------------|---------------------------|---------------------------|---------------------------|---------------------------|---------------------------|---------------------------|---------------------------|---------------------------|\n",
      "89D227B655E5C82AECF13C3F540D4CF4|BA96DE419E711691B9445D6A6307C170|CMT|1|N|2013-01-01 15:11:48|2013-01-01 15:18:10|4|382|1.00|-73.978165|40.757977|-73.989838|40.751171\n",
      "0BD7C8F5BA12B88E0B67BED28BEA73D8|9FD8F69F0804BDB5549F40E9DA1BE472|CMT|1|N|2013-01-06 00:18:35|2013-01-06 00:22:54|1|259|1.50|-74.006683|40.731781|-73.994499|40.75066\n",
      "0BD7C8F5BA12B88E0B67BED28BEA73D8|9FD8F69F0804BDB5549F40E9DA1BE472|CMT|1|N|2013-01-05 18:49:41|2013-01-05 18:54:23|1|282|1.10|-74.004707|40.73777|-74.009834|40.726002\n",
      "DFD2202EE08F7A8DC9A57B02ACB81FE2|51EE87E3205C985EF8431D850C786310|CMT|1|N|2013-01-07 23:54:15|2013-01-07 23:58:20|2|244|.70|-73.974602|40.759945|-73.984734|40.759388\n"
     ]
    }
   ],
   "source": [
    "#Part4\n",
    "\n",
    "\n",
    "import csv\n",
    "f = open(\"/Users/ksr/Downloads/trip_data_1.csv\", 'r')\n",
    "reader = csv.reader(f)\n",
    "n=0\n",
    "for row in reader:\n",
    "  for i in range(14):\n",
    "    if i!=13:\n",
    "      print(row[i], end='|')\n",
    "    else:\n",
    "      print(row[i])\n",
    "  \n",
    "  if n ==0:\n",
    "    print('---------------------------|'*14)\n",
    "  n+=1\n",
    "  if n==5:\n",
    "    break"
   ]
  },
  {
   "cell_type": "code",
   "execution_count": 5,
   "metadata": {},
   "outputs": [
    {
     "name": "stdout",
     "output_type": "stream",
     "text": [
      "87 2228.7375 -2771.2854 3477.1055 -3547.9207\n"
     ]
    }
   ],
   "source": [
    "#5\n",
    "\n",
    "import csv, folium\n",
    "f = open(\"/Users/ksr/Downloads/trip_data_1.csv\", 'r')\n",
    "reader = csv.reader(f)\n",
    "maxlong = 0\n",
    "minilong = 0\n",
    "maxlat = 0 \n",
    "minilat = 0\n",
    "ex =0\n",
    "for row in reader:\n",
    "  try:\n",
    "    if float(row[10]) >= float(row[12]) and float(row[10]) >= maxlong:\n",
    "      maxlong = float(row[10])\n",
    "    elif float(row[10]) <= float(row[12]) and float(row[10]) <= minilong:\n",
    "      minilong = float(row[10])\n",
    "    elif float(row[12]) >= float(row[10]) and float(row[12]) >= maxlong:\n",
    "      maxlong = float(row[12])\n",
    "    elif float(row[12]) <= float(row[10]) and float(row[12]) <= minilong:\n",
    "      minilong = float(row[12])\n",
    "    \n",
    "    if float(row[11]) >= float(row[13]) and float(row[11]) >= maxlat:\n",
    "      maxlat = float(row[11])\n",
    "    elif float(row[11]) <= float(row[13]) and float(row[11]) <= minilat:\n",
    "      minilat = float(row[11])\n",
    "    elif float(row[13]) >= float(row[11]) and float(row[13]) >= maxlat:\n",
    "      maxlat = float(row[13])\n",
    "    elif float(row[13]) <= float(row[11]) and float(row[13]) <= minilat:\n",
    "      minilat = float(row[13])\n",
    "  except Exception as e:\n",
    "    ex+=1\n",
    "\n",
    "\n",
    "print(ex, maxlong,minilong, maxlat,minilat)"
   ]
  },
  {
   "cell_type": "code",
   "execution_count": null,
   "metadata": {},
   "outputs": [],
   "source": [
    "import folium\n",
    "map=folium.Map(location=[maxlat,minilong])\n",
    "map1=folium.Map(location=[minilat,maxlong])\n",
    "map.add_child(folium.Marker(location=[maxlat,minilong],popup=\"MaxLat\", icon=folium.Icon(color='red')))\n",
    "map1.add_child(folium.Marker(location=[minilat,maxlong],popup=\"MaxLat\", icon=folium.Icon(color='green')))\n"
   ]
  },
  {
   "cell_type": "code",
   "execution_count": 1,
   "metadata": {},
   "outputs": [
    {
     "name": "stdout",
     "output_type": "stream",
     "text": [
      "Average Haversine Distance = 19.597999536473484\n"
     ]
    }
   ],
   "source": [
    "#6\n",
    "\n",
    "import csv\n",
    "from math import radians, cos, sin, asin, sqrt\n",
    "f = open(\"/Users/ksr/Downloads/trip_data_1.csv\", 'r')\n",
    "reader = csv.reader(f)\n",
    "\n",
    "def haversine(lon1, lat1, lon2, lat2):\n",
    "    \"\"\"\n",
    "    Calculate the great circle distance in kilometers between two points \n",
    "    on the earth (specified in decimal degrees)\n",
    "    \"\"\"\n",
    "    # convert decimal degrees to radians \n",
    "    lon1, lat1, lon2, lat2 = map(radians, [lon1, lat1, lon2, lat2])\n",
    "\n",
    "    # haversine formula \n",
    "    dlon = lon2 - lon1 \n",
    "    dlat = lat2 - lat1 \n",
    "    a = sin(dlat/2)**2 + cos(lat1) * cos(lat2) * sin(dlon/2)**2\n",
    "    c = 2 * asin(sqrt(a)) \n",
    "    r = 6371 # Radius of earth in kilometers. Use 3956 for miles. Determines return value units.\n",
    "    return c * r\n",
    "\n",
    "\n",
    "n=0\n",
    "z = 0.0\n",
    "ex =0\n",
    "x = []\n",
    "for row in reader:\n",
    "  n+=1\n",
    "  try:\n",
    "    lon1,lat1,lon2,lat2 = float(row[10]),float(row[11]),float(row[12]),float(row[13])\n",
    "    z += haversine(lon1,lat1,lon2,lat2)\n",
    "    x.append(z)\n",
    "  except Exception as e:\n",
    "    ex +=1\n",
    "\n",
    "print(\"Average Haversine Distance =\", z/(n-ex) )\n",
    "    \n",
    "       "
   ]
  },
  {
   "cell_type": "code",
   "execution_count": 2,
   "metadata": {},
   "outputs": [
    {
     "name": "stdout",
     "output_type": "stream",
     "text": [
      "[1.240760594407495, 3.577535155709607, 4.955543943134076, 5.8111576389775506, 8.03090697280956]\n"
     ]
    },
    {
     "name": "stderr",
     "output_type": "stream",
     "text": [
      "/var/folders/z8/46_440p905v1pzk4x5tn867h0000gn/T/ipykernel_5247/2249430758.py:6: MatplotlibDeprecationWarning: The seaborn styles shipped by Matplotlib are deprecated since 3.6, as they no longer correspond to the styles shipped by seaborn. However, they will remain available as 'seaborn-v0_8-<style>'. Alternatively, directly use the seaborn API instead.\n",
      "  plt.style.use('seaborn')\n"
     ]
    },
    {
     "data": {
      "image/png": "[encoded data removed]",
      "text/plain": [
       "<Figure size 720x504 with 1 Axes>"
      ]
     },
     "metadata": {
      "needs_background": "light"
     },
     "output_type": "display_data"
    },
    {
     "data": {
      "image/png": "[encoded data removed]",
      "text/plain": [
       "<Figure size 720x360 with 1 Axes>"
      ]
     },
     "metadata": {
      "needs_background": "light"
     },
     "output_type": "display_data"
    }
   ],
   "source": [
    "#Part6A\n",
    "\n",
    "print(x[:5])\n",
    "\n",
    "from matplotlib import pyplot as plt\n",
    "plt.style.use('seaborn')\n",
    "import numpy as np\n",
    " \n",
    "\n",
    "fig, ax = plt.subplots(figsize =(10, 7))\n",
    "ax.hist(x, bins = [0,5,10,15,20,25,30])\n",
    " \n",
    "\n",
    "plt.show()\n",
    "\n",
    "fig, ax = plt.subplots(figsize =(10, 5))\n",
    "ax.hist(x, bins = [0,2500, 5000,7500,10000,12500])\n",
    " \n",
    "\n",
    "plt.show()"
   ]
  },
  {
   "cell_type": "code",
   "execution_count": 2,
   "metadata": {},
   "outputs": [
    {
     "name": "stdout",
     "output_type": "stream",
     "text": [
      "13427 32225 3 15 4 11 6595\n"
     ]
    }
   ],
   "source": [
    "#Part7\n",
    "\n",
    "from math import radians, cos, sin, asin, sqrt\n",
    "import csv\n",
    "\n",
    "n=0\n",
    "med = dict()\n",
    "hack_l = dict()\n",
    "vid = dict()\n",
    "rc= dict()\n",
    "snff= dict()\n",
    "pc = dict()\n",
    "tt = dict()\n",
    "f = open(\"/Users/ksr/Downloads/trip_data_1.csv\", 'r')\n",
    "reader = csv.reader(f)\n",
    "for row in reader:\n",
    "  if row[0] in med:\n",
    "    med[row[0]]+=1\n",
    "  else:\n",
    "    med[row[0]]=1\n",
    "\n",
    "  if row[1] in hack_l:\n",
    "    hack_l[row[1]]+=1\n",
    "  else:\n",
    "    hack_l[row[1]]=1\n",
    "\n",
    "  if row[2] in vid:\n",
    "    vid[row[2]]+=1\n",
    "  else:\n",
    "    vid[row[2]]=1\n",
    "\n",
    "  if row[3] in rc:\n",
    "    rc[row[3]]+=1\n",
    "  else:\n",
    "    rc[row[3]]=1\n",
    "\n",
    "  if row[4] in snff:\n",
    "    snff[row[4]]+=1\n",
    "  else:\n",
    "    snff[row[4]]=1\n",
    "\n",
    "  if row[7] in pc:\n",
    "    pc[row[7]]+=1\n",
    "  else:\n",
    "    pc[row[7]]=1\n",
    "  \n",
    "  if row[8] in tt:\n",
    "    tt[row[8]] +=1\n",
    "  else:\n",
    "    tt[row[8]] =1\n",
    "  n+=1\n",
    "\n",
    "print(len(med), len(hack_l), len(vid), len(rc), len(snff), len(pc),len(tt))\n"
   ]
  },
  {
   "cell_type": "code",
   "execution_count": 3,
   "metadata": {},
   "outputs": [
    {
     "name": "stdout",
     "output_type": "stream",
     "text": [
      "4369 40443 64512 56251 88768\n"
     ]
    }
   ],
   "source": [
    "import csv\n",
    "f = open(\"/Users/ksr/Downloads/trip_data_1.csv\", 'r')\n",
    "reader = csv.reader(f)\n",
    "\n",
    "td_9 = dict()\n",
    "plong_10 = dict()\n",
    "plat_11 = dict()\n",
    "dlong_12 = dict()\n",
    "dlat_13 = dict()\n",
    "for row in reader:\n",
    "  if row[9] in td_9:\n",
    "    td_9[row[9]]+=1\n",
    "  else:\n",
    "    td_9[row[9]]=1 \n",
    "\n",
    "  if row[10] in plong_10:\n",
    "    plong_10[row[10]]+=1\n",
    "  else:\n",
    "    plong_10[row[10]]=1 \n",
    "\n",
    "  if row[11] in plat_11:\n",
    "    plat_11[row[11]]+=1\n",
    "  else:\n",
    "    plat_11[row[11]]=1\n",
    "\n",
    "  if row[12] in dlong_12:\n",
    "    dlong_12[row[12]]+=1\n",
    "  else:\n",
    "    dlong_12[row[12]]=1\n",
    "\n",
    "  if row[13] in dlat_13:\n",
    "    dlat_13[row[13]]+=1\n",
    "  else:\n",
    "    dlat_13[row[13]]=1\n",
    "\n",
    "print(len(td_9),len(plong_10),len(plat_11),len(dlong_12),len(dlat_13))"
   ]
  },
  {
   "cell_type": "code",
   "execution_count": 4,
   "metadata": {},
   "outputs": [
    {
     "name": "stdout",
     "output_type": "stream",
     "text": [
      "{'rate_code': 1, '1': 14456067, '2': 239160, '4': 22831, '5': 39889, '3': 17655, '6': 315, '8': 10, '0': 667, '210': 11, '28': 2, '7': 2, '9': 1, '65': 1, '128': 4}\n"
     ]
    }
   ],
   "source": [
    "print(rc)"
   ]
  },
  {
   "cell_type": "code",
   "execution_count": 1,
   "metadata": {},
   "outputs": [
    {
     "name": "stdout",
     "output_type": "stream",
     "text": [
      "invalid literal for int() with base 10: 'rate_code'\n",
      "invalid literal for int() with base 10: 'passenger_count'\n",
      "invalid literal for int() with base 10: 'trip_time_in_secs'\n",
      "could not convert string to float: 'trip_distance'\n",
      "14776616\n"
     ]
    }
   ],
   "source": [
    "#Part8\n",
    "\n",
    "\n",
    "import csv\n",
    "f = open(\"/Users/ksr/Downloads/trip_data_1.csv\", 'r')\n",
    "reader = csv.reader(f)\n",
    "\n",
    "min_rc = 0\n",
    "max_rc = 0\n",
    "min_pc= 0\n",
    "max_pc = 0\n",
    "min_tis = 0\n",
    "max_tis= 0\n",
    "min_td = 0\n",
    "max_td = 0\n",
    "n=0\n",
    "for row in reader:\n",
    "  #print(row[3])\n",
    "  n+=1\n",
    "  try:\n",
    "    if int(row[3]) <= min_rc or min_rc ==0:\n",
    "      min_rc = int(row[3])\n",
    "    if int(row[3]) >= max_rc or max_rc ==0:\n",
    "      max_rc = int(row[3])\n",
    "  except Exception as e:\n",
    "    print(e)\n",
    "  try:\n",
    "    if int(row[7]) <= min_pc or min_pc ==0:\n",
    "      min_pc = int(row[7])\n",
    "    if int(row[7]) >= max_pc or max_pc ==0:\n",
    "      max_pc = int(row[7])\n",
    "  except Exception as e:\n",
    "    print(e)\n",
    "  try:\n",
    "    if int(row[8]) <= min_tis or min_tis ==0:\n",
    "      min_tis = int(row[8])\n",
    "    if int(row[8]) >= max_tis or max_tis ==0:\n",
    "      max_tis = int(row[8])\n",
    "  except Exception as e:\n",
    "    print(e)\n",
    "  try:\n",
    "    if float(row[9]) <= min_td or min_td ==0:\n",
    "      min_td = float(row[9])\n",
    "    if float(row[9]) >= max_tis or max_td ==0:\n",
    "      max_td = float(row[9])\n",
    "  except Exception as e:\n",
    "    print(e)\n",
    "\n",
    "\n",
    "print(n)"
   ]
  },
  {
   "cell_type": "code",
   "execution_count": 2,
   "metadata": {},
   "outputs": [
    {
     "name": "stdout",
     "output_type": "stream",
     "text": [
      "210 1\n",
      "255 1\n",
      "10800 48\n",
      "1.0 0.5\n"
     ]
    }
   ],
   "source": [
    "print(max_rc, min_rc)\n",
    "print(max_pc, min_pc)\n",
    "print(max_tis, min_tis)\n",
    "print(max_td, min_td)"
   ]
  },
  {
   "cell_type": "code",
   "execution_count": 3,
   "metadata": {},
   "outputs": [
    {
     "ename": "ValueError",
     "evalue": "time data 'pickup_datetime' does not match format '%Y-%m-%d %H:%M:%S'",
     "output_type": "error",
     "traceback": [
      "\u001b[0;31m---------------------------------------------------------------------------\u001b[0m",
      "\u001b[0;31mValueError\u001b[0m                                Traceback (most recent call last)",
      "\u001b[1;32m/Users/ksr/Documents/GitHub/Taxi/Taxi Prac 6 OCt.ipynb Cell 14'\u001b[0m in \u001b[0;36m<cell line: 8>\u001b[0;34m()\u001b[0m\n\u001b[1;32m      <a href='vscode-notebook-cell:/Users/ksr/Documents/GitHub/Taxi/Taxi%20Prac%206%20OCt.ipynb#ch0000013?line=5'>6</a>\u001b[0m pcl \u001b[39m=\u001b[39m  [\u001b[39m0\u001b[39m,\u001b[39m0\u001b[39m,\u001b[39m0\u001b[39m,\u001b[39m0\u001b[39m,\u001b[39m0\u001b[39m,\u001b[39m0\u001b[39m,\u001b[39m0\u001b[39m,\u001b[39m0\u001b[39m,\u001b[39m0\u001b[39m,\u001b[39m0\u001b[39m,\u001b[39m0\u001b[39m,\u001b[39m0\u001b[39m,\u001b[39m0\u001b[39m,\u001b[39m0\u001b[39m,\u001b[39m0\u001b[39m,\u001b[39m0\u001b[39m,\u001b[39m0\u001b[39m,\u001b[39m0\u001b[39m,\u001b[39m0\u001b[39m,\u001b[39m0\u001b[39m,\u001b[39m0\u001b[39m,\u001b[39m0\u001b[39m,\u001b[39m0\u001b[39m,\u001b[39m0\u001b[39m]\n\u001b[1;32m      <a href='vscode-notebook-cell:/Users/ksr/Documents/GitHub/Taxi/Taxi%20Prac%206%20OCt.ipynb#ch0000013?line=6'>7</a>\u001b[0m hc \u001b[39m=\u001b[39m  [\u001b[39m0\u001b[39m,\u001b[39m0\u001b[39m,\u001b[39m0\u001b[39m,\u001b[39m0\u001b[39m,\u001b[39m0\u001b[39m,\u001b[39m0\u001b[39m,\u001b[39m0\u001b[39m,\u001b[39m0\u001b[39m,\u001b[39m0\u001b[39m,\u001b[39m0\u001b[39m,\u001b[39m0\u001b[39m,\u001b[39m0\u001b[39m,\u001b[39m0\u001b[39m,\u001b[39m0\u001b[39m,\u001b[39m0\u001b[39m,\u001b[39m0\u001b[39m,\u001b[39m0\u001b[39m,\u001b[39m0\u001b[39m,\u001b[39m0\u001b[39m,\u001b[39m0\u001b[39m,\u001b[39m0\u001b[39m,\u001b[39m0\u001b[39m,\u001b[39m0\u001b[39m,\u001b[39m0\u001b[39m]\n\u001b[0;32m----> <a href='vscode-notebook-cell:/Users/ksr/Documents/GitHub/Taxi/Taxi%20Prac%206%20OCt.ipynb#ch0000013?line=7'>8</a>\u001b[0m dta \u001b[39m=\u001b[39m datetime\u001b[39m.\u001b[39;49mdatetime\u001b[39m.\u001b[39;49mstrptime(dts,\u001b[39m\"\u001b[39;49m\u001b[39m%\u001b[39;49m\u001b[39mY-\u001b[39;49m\u001b[39m%\u001b[39;49m\u001b[39mm-\u001b[39;49m\u001b[39m%d\u001b[39;49;00m\u001b[39m \u001b[39;49m\u001b[39m%\u001b[39;49m\u001b[39mH:\u001b[39;49m\u001b[39m%\u001b[39;49m\u001b[39mM:\u001b[39;49m\u001b[39m%\u001b[39;49m\u001b[39mS\u001b[39;49m\u001b[39m\"\u001b[39;49m)\n\u001b[1;32m      <a href='vscode-notebook-cell:/Users/ksr/Documents/GitHub/Taxi/Taxi%20Prac%206%20OCt.ipynb#ch0000013?line=8'>9</a>\u001b[0m \u001b[39m#f = open(fn, 'r')\u001b[39;00m\n\u001b[1;32m     <a href='vscode-notebook-cell:/Users/ksr/Documents/GitHub/Taxi/Taxi%20Prac%206%20OCt.ipynb#ch0000013?line=9'>10</a>\u001b[0m \u001b[39m#reader = csv.reader(f)\u001b[39;00m\n\u001b[1;32m     <a href='vscode-notebook-cell:/Users/ksr/Documents/GitHub/Taxi/Taxi%20Prac%206%20OCt.ipynb#ch0000013?line=10'>11</a>\u001b[0m \u001b[39mfor\u001b[39;00m row \u001b[39min\u001b[39;00m reader:\n",
      "File \u001b[0;32m/Library/Frameworks/Python.framework/Versions/3.10/lib/python3.10/_strptime.py:568\u001b[0m, in \u001b[0;36m_strptime_datetime\u001b[0;34m(cls, data_string, format)\u001b[0m\n\u001b[1;32m    <a href='file:///Library/Frameworks/Python.framework/Versions/3.10/lib/python3.10/_strptime.py?line=564'>565</a>\u001b[0m \u001b[39mdef\u001b[39;00m \u001b[39m_strptime_datetime\u001b[39m(\u001b[39mcls\u001b[39m, data_string, \u001b[39mformat\u001b[39m\u001b[39m=\u001b[39m\u001b[39m\"\u001b[39m\u001b[39m%a\u001b[39;00m\u001b[39m \u001b[39m\u001b[39m%\u001b[39m\u001b[39mb \u001b[39m\u001b[39m%d\u001b[39;00m\u001b[39m \u001b[39m\u001b[39m%\u001b[39m\u001b[39mH:\u001b[39m\u001b[39m%\u001b[39m\u001b[39mM:\u001b[39m\u001b[39m%\u001b[39m\u001b[39mS \u001b[39m\u001b[39m%\u001b[39m\u001b[39mY\u001b[39m\u001b[39m\"\u001b[39m):\n\u001b[1;32m    <a href='file:///Library/Frameworks/Python.framework/Versions/3.10/lib/python3.10/_strptime.py?line=565'>566</a>\u001b[0m     \u001b[39m\"\"\"Return a class cls instance based on the input string and the\u001b[39;00m\n\u001b[1;32m    <a href='file:///Library/Frameworks/Python.framework/Versions/3.10/lib/python3.10/_strptime.py?line=566'>567</a>\u001b[0m \u001b[39m    format string.\"\"\"\u001b[39;00m\n\u001b[0;32m--> <a href='file:///Library/Frameworks/Python.framework/Versions/3.10/lib/python3.10/_strptime.py?line=567'>568</a>\u001b[0m     tt, fraction, gmtoff_fraction \u001b[39m=\u001b[39m _strptime(data_string, \u001b[39mformat\u001b[39;49m)\n\u001b[1;32m    <a href='file:///Library/Frameworks/Python.framework/Versions/3.10/lib/python3.10/_strptime.py?line=568'>569</a>\u001b[0m     tzname, gmtoff \u001b[39m=\u001b[39m tt[\u001b[39m-\u001b[39m\u001b[39m2\u001b[39m:]\n\u001b[1;32m    <a href='file:///Library/Frameworks/Python.framework/Versions/3.10/lib/python3.10/_strptime.py?line=569'>570</a>\u001b[0m     args \u001b[39m=\u001b[39m tt[:\u001b[39m6\u001b[39m] \u001b[39m+\u001b[39m (fraction,)\n",
      "File \u001b[0;32m/Library/Frameworks/Python.framework/Versions/3.10/lib/python3.10/_strptime.py:349\u001b[0m, in \u001b[0;36m_strptime\u001b[0;34m(data_string, format)\u001b[0m\n\u001b[1;32m    <a href='file:///Library/Frameworks/Python.framework/Versions/3.10/lib/python3.10/_strptime.py?line=346'>347</a>\u001b[0m found \u001b[39m=\u001b[39m format_regex\u001b[39m.\u001b[39mmatch(data_string)\n\u001b[1;32m    <a href='file:///Library/Frameworks/Python.framework/Versions/3.10/lib/python3.10/_strptime.py?line=347'>348</a>\u001b[0m \u001b[39mif\u001b[39;00m \u001b[39mnot\u001b[39;00m found:\n\u001b[0;32m--> <a href='file:///Library/Frameworks/Python.framework/Versions/3.10/lib/python3.10/_strptime.py?line=348'>349</a>\u001b[0m     \u001b[39mraise\u001b[39;00m \u001b[39mValueError\u001b[39;00m(\u001b[39m\"\u001b[39m\u001b[39mtime data \u001b[39m\u001b[39m%r\u001b[39;00m\u001b[39m does not match format \u001b[39m\u001b[39m%r\u001b[39;00m\u001b[39m\"\u001b[39m \u001b[39m%\u001b[39m\n\u001b[1;32m    <a href='file:///Library/Frameworks/Python.framework/Versions/3.10/lib/python3.10/_strptime.py?line=349'>350</a>\u001b[0m                      (data_string, \u001b[39mformat\u001b[39m))\n\u001b[1;32m    <a href='file:///Library/Frameworks/Python.framework/Versions/3.10/lib/python3.10/_strptime.py?line=350'>351</a>\u001b[0m \u001b[39mif\u001b[39;00m \u001b[39mlen\u001b[39m(data_string) \u001b[39m!=\u001b[39m found\u001b[39m.\u001b[39mend():\n\u001b[1;32m    <a href='file:///Library/Frameworks/Python.framework/Versions/3.10/lib/python3.10/_strptime.py?line=351'>352</a>\u001b[0m     \u001b[39mraise\u001b[39;00m \u001b[39mValueError\u001b[39;00m(\u001b[39m\"\u001b[39m\u001b[39munconverted data remains: \u001b[39m\u001b[39m%s\u001b[39;00m\u001b[39m\"\u001b[39m \u001b[39m%\u001b[39m\n\u001b[1;32m    <a href='file:///Library/Frameworks/Python.framework/Versions/3.10/lib/python3.10/_strptime.py?line=352'>353</a>\u001b[0m                       data_string[found\u001b[39m.\u001b[39mend():])\n",
      "\u001b[0;31mValueError\u001b[0m: time data 'pickup_datetime' does not match format '%Y-%m-%d %H:%M:%S'"
     ]
    }
   ],
   "source": [
    "#part9\n",
    "\n",
    "import datetime,csv\n",
    "f = open(\"/Users/ksr/Downloads/trip_data_1.csv\", 'r')\n",
    "reader = csv.reader(f)\n",
    "exp =0\n",
    "n=0\n",
    "pcl =  [0,0,0,0,0,0,0,0,0,0,0,0,0,0,0,0,0,0,0,0,0,0,0,0]\n",
    "hc =  [0,0,0,0,0,0,0,0,0,0,0,0,0,0,0,0,0,0,0,0,0,0,0,0]\n",
    "dta = datetime.datetime.strptime(dts,\"%Y-%m-%d %H:%M:%S\")\n",
    "#f = open(fn, 'r')\n",
    "#reader = csv.reader(f)\n",
    "for row in reader:\n",
    "  n+=1\n",
    "  try:\n",
    "    dts = row[5]\n",
    "    dta = datetime.datetime.strptime(dts,\"%Y-%m-%d %H:%M:%S\")\n",
    "  except Exception as e:\n",
    "    exp+=1\n",
    "    print(e)\n",
    "  h = dta.hour  \n",
    "  try:\n",
    "    ipc = int(row[7])    \n",
    "    hc[h]+=1\n",
    "    pcl[h]+=ipc\n",
    "  except Exception as e:\n",
    "    print(e)\n",
    "\n"
   ]
  },
  {
   "cell_type": "code",
   "execution_count": null,
   "metadata": {},
   "outputs": [],
   "source": [
    "#Part 9\n",
    "\n",
    "averages = []\n",
    "\n",
    "for i in range(len(hc)):\n",
    "    averages.append(pcl[i] / hc[i])\n",
    "\n",
    "    from matplotlib import pyplot as plt\n",
    "plt.style.use('seaborn')\n",
    "import numpy as np\n",
    " \n",
    "# Creating histogram\n",
    "plt.figure(figsize=(20,6))\n",
    "plt.xlabel('Hour of the day')\n",
    "plt.ylabel('Average number of taxi passengers')\n",
    "plt.title('Average number of taxi passengers for each hour of the day')\n",
    "plt.bar(x=range(0,24), height=averages)\n",
    "plt.show()"
   ]
  },
  {
   "cell_type": "code",
   "execution_count": 4,
   "metadata": {},
   "outputs": [
    {
     "name": "stdout",
     "output_type": "stream",
     "text": [
      "14776616 14777\n"
     ]
    },
    {
     "data": {
      "text/plain": [
       "<function TextIOWrapper.close()>"
      ]
     },
     "execution_count": 4,
     "metadata": {},
     "output_type": "execute_result"
    }
   ],
   "source": [
    "import csv\n",
    "f = open(\"/Users/ksr/Downloads/trip_data_1.csv\", 'r')\n",
    "reader = csv.reader(f)\n",
    "fnew = open('new.csv', 'w')\n",
    "fnew.write('')\n",
    "fnew.close()\n",
    "fnew = open('new.csv', 'w')\n",
    "writer = csv.writer(fnew,delimiter=',',lineterminator='\\n')\n",
    "\n",
    "n = 0\n",
    "nn=0\n",
    "for row in reader:\n",
    "    if n % 1000 == 0:\n",
    "        nn+=1\n",
    "        writer.writerow(row)\n",
    "    n+=1\n",
    "print(n,nn)\n",
    "fnew.close"
   ]
  },
  {
   "cell_type": "code",
   "execution_count": 6,
   "metadata": {},
   "outputs": [
    {
     "name": "stdout",
     "output_type": "stream",
     "text": [
      "time data 'pickup_datetime' does not match format '%Y-%m-%d %H:%M:%S'\n"
     ]
    },
    {
     "ename": "NameError",
     "evalue": "name 'dto' is not defined",
     "output_type": "error",
     "traceback": [
      "\u001b[0;31m---------------------------------------------------------------------------\u001b[0m",
      "\u001b[0;31mNameError\u001b[0m                                 Traceback (most recent call last)",
      "\u001b[1;32m/Users/ksr/Documents/GitHub/Taxi/Taxi Prac 6 OCt.ipynb Cell 17'\u001b[0m in \u001b[0;36m<cell line: 15>\u001b[0;34m()\u001b[0m\n\u001b[1;32m     <a href='vscode-notebook-cell:/Users/ksr/Documents/GitHub/Taxi/Taxi%20Prac%206%20OCt.ipynb#ch0000015?line=20'>21</a>\u001b[0m   exp\u001b[39m+\u001b[39m\u001b[39m=\u001b[39m\u001b[39m1\u001b[39m\n\u001b[1;32m     <a href='vscode-notebook-cell:/Users/ksr/Documents/GitHub/Taxi/Taxi%20Prac%206%20OCt.ipynb#ch0000015?line=21'>22</a>\u001b[0m   \u001b[39mprint\u001b[39m(e)\n\u001b[0;32m---> <a href='vscode-notebook-cell:/Users/ksr/Documents/GitHub/Taxi/Taxi%20Prac%206%20OCt.ipynb#ch0000015?line=22'>23</a>\u001b[0m h \u001b[39m=\u001b[39m dto\u001b[39m.\u001b[39mhour  \n\u001b[1;32m     <a href='vscode-notebook-cell:/Users/ksr/Documents/GitHub/Taxi/Taxi%20Prac%206%20OCt.ipynb#ch0000015?line=23'>24</a>\u001b[0m \u001b[39mtry\u001b[39;00m:\n\u001b[1;32m     <a href='vscode-notebook-cell:/Users/ksr/Documents/GitHub/Taxi/Taxi%20Prac%206%20OCt.ipynb#ch0000015?line=24'>25</a>\u001b[0m   ipc \u001b[39m=\u001b[39m \u001b[39mint\u001b[39m(row[\u001b[39m7\u001b[39m])    \n",
      "\u001b[0;31mNameError\u001b[0m: name 'dto' is not defined"
     ]
    }
   ],
   "source": [
    "#Part 11\n",
    "\n",
    "import datetime,csv\n",
    "\n",
    "fn = \"/Users/ksr/Downloads/trip_data_1.csv\"\n",
    "f = open(fn,'r')\n",
    "reader = csv.reader(f)\n",
    "exp =0\n",
    "n=0\n",
    "pcl =  [0,0,0,0,0,0,0,0,0,0,0,0,0,0,0,0,0,0,0,0,0,0,0,0]\n",
    "hc =  [0,0,0,0,0,0,0,0,0,0,0,0,0,0,0,0,0,0,0,0,0,0,0,0]\n",
    "\n",
    "#f = open(fn, 'r')\n",
    "#reader = csv.reader(f)\n",
    "for row in reader:\n",
    "  n+=1\n",
    "  try:\n",
    "    dts = row[5]\n",
    "    dto = datetime.datetime.strptime(dts,\"%Y-%m-%d %H:%M:%S\")\n",
    "  except Exception as e:\n",
    "    exp+=1\n",
    "    print(e)\n",
    "  h = dto.hour  \n",
    "  try:\n",
    "    ipc = int(row[7])    \n",
    "    hc[h]+=1\n",
    "    pcl[h]+=ipc\n",
    "  except Exception as e:\n",
    "    print(e)"
   ]
  }
 ],
 "metadata": {
  "interpreter": {
   "hash": "7e1998ff7f8aa20ada591c520b972326324e5ea05489af9e422744c7c09f6dad"
  },
  "kernelspec": {
   "display_name": "Python 3.10.2 64-bit",
   "language": "python",
   "name": "python3"
  },
  "language_info": {
   "codemirror_mode": {
    "name": "ipython",
    "version": 3
   },
   "file_extension": ".py",
   "mimetype": "text/x-python",
   "name": "python",
   "nbconvert_exporter": "python",
   "pygments_lexer": "ipython3",
   "version": "3.10.2"
  },
  "orig_nbformat": 4
 },
 "nbformat": 4,
 "nbformat_minor": 2
}
